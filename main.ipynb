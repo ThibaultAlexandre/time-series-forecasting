{
 "cells": [
  {
   "cell_type": "markdown",
   "metadata": {},
   "source": [
    "# LSTM neural network for time series prediction"
   ]
  },
  {
   "cell_type": "code",
   "execution_count": 1,
   "metadata": {},
   "outputs": [],
   "source": [
    "import torch\n",
    "import torch.nn as nn\n",
    "from torch.autograd import Variable \n",
    "import pandas as pd\n",
    "from sklearn.preprocessing import MinMaxScaler\n",
    "import numpy as np\n",
    "import matplotlib.pyplot as plt\n",
    "from tqdm import trange"
   ]
  },
  {
   "cell_type": "markdown",
   "metadata": {},
   "source": [
    "We load and plot Tesla stock data from 2010 to 2020"
   ]
  },
  {
   "cell_type": "code",
   "execution_count": 2,
   "metadata": {},
   "outputs": [
    {
     "data": {
      "text/html": [
       "<div>\n",
       "<style scoped>\n",
       "    .dataframe tbody tr th:only-of-type {\n",
       "        vertical-align: middle;\n",
       "    }\n",
       "\n",
       "    .dataframe tbody tr th {\n",
       "        vertical-align: top;\n",
       "    }\n",
       "\n",
       "    .dataframe thead th {\n",
       "        text-align: right;\n",
       "    }\n",
       "</style>\n",
       "<table border=\"1\" class=\"dataframe\">\n",
       "  <thead>\n",
       "    <tr style=\"text-align: right;\">\n",
       "      <th></th>\n",
       "      <th>Adj Close</th>\n",
       "    </tr>\n",
       "  </thead>\n",
       "  <tbody>\n",
       "    <tr>\n",
       "      <th>0</th>\n",
       "      <td>23.889999</td>\n",
       "    </tr>\n",
       "    <tr>\n",
       "      <th>1</th>\n",
       "      <td>23.830000</td>\n",
       "    </tr>\n",
       "    <tr>\n",
       "      <th>2</th>\n",
       "      <td>21.959999</td>\n",
       "    </tr>\n",
       "    <tr>\n",
       "      <th>3</th>\n",
       "      <td>19.200001</td>\n",
       "    </tr>\n",
       "    <tr>\n",
       "      <th>4</th>\n",
       "      <td>16.110001</td>\n",
       "    </tr>\n",
       "  </tbody>\n",
       "</table>\n",
       "</div>"
      ],
      "text/plain": [
       "   Adj Close\n",
       "0  23.889999\n",
       "1  23.830000\n",
       "2  21.959999\n",
       "3  19.200001\n",
       "4  16.110001"
      ]
     },
     "execution_count": 2,
     "metadata": {},
     "output_type": "execute_result"
    }
   ],
   "source": [
    "tesla_data = pd.read_csv('TSLA_2010_2020.csv')\n",
    "tesla_data = tesla_data.drop(['Date','Open','High','Low','Close','Volume'],axis = 1)\n",
    "total_days = tesla_data.shape[0]\n",
    "tesla_data.head()"
   ]
  },
  {
   "cell_type": "code",
   "execution_count": 3,
   "metadata": {},
   "outputs": [
    {
     "data": {
      "text/plain": [
       "<Figure size 432x288 with 0 Axes>"
      ]
     },
     "metadata": {},
     "output_type": "display_data"
    },
    {
     "data": {
      "image/png": "[encoded data removed]",
      "text/plain": [
       "<Figure size 864x432 with 1 Axes>"
      ]
     },
     "metadata": {
      "needs_background": "light"
     },
     "output_type": "display_data"
    }
   ],
   "source": [
    "plt.clf()\n",
    "plt.figure(figsize=(12,6))\n",
    "plt.plot(tesla_data, label='Tesla stock value', c = 'b')\n",
    "plt.legend()\n",
    "plt.show() "
   ]
  },
  {
   "cell_type": "markdown",
   "metadata": {},
   "source": [
    "We define a sliding windows function that takes the previous days as features and the current day as target"
   ]
  },
  {
   "cell_type": "code",
   "execution_count": 4,
   "metadata": {},
   "outputs": [],
   "source": [
    "def sliding_windows(data, seq_length):\n",
    "    X = []\n",
    "    y = []\n",
    "    for i in range(len(data)-seq_length-1):\n",
    "        Xi = data[i:(i+seq_length)]\n",
    "        yi = data[i+seq_length]\n",
    "        X.append(Xi)\n",
    "        y.append(yi)\n",
    "    return np.array(X),np.array(y)"
   ]
  },
  {
   "cell_type": "markdown",
   "metadata": {},
   "source": [
    "We define a class my_nn which is a neural network with LSTM layers"
   ]
  },
  {
   "cell_type": "code",
   "execution_count": 5,
   "metadata": {},
   "outputs": [],
   "source": [
    "class LSTM_nn(nn.Module):\n",
    "    def __init__(self,input_size, num_layers, hidden_size, seq_length):\n",
    "        super(LSTM_nn, self).__init__()\n",
    "        #Attributes from nn.Module\n",
    "        self.input_size = input_size #input size\n",
    "        self.num_layers = num_layers #number of layers\n",
    "        self.hidden_size = hidden_size #hidden state\n",
    "        \n",
    "        #New attributes\n",
    "        self.seq_length = seq_length #sequence length\n",
    "        self.lstm = nn.LSTM(input_size=input_size, hidden_size=hidden_size, \n",
    "                            num_layers=num_layers, batch_first = True) #lstm\n",
    "        \n",
    "        self.fc =  nn.Linear(hidden_size, 1) #fully connected linear\n",
    "    \n",
    "    def forward(self,X):\n",
    "        h_0 = Variable(torch.zeros(self.num_layers, X.size(0), self.hidden_size)) #hidden state\n",
    "        c_0 = Variable(torch.zeros(self.num_layers, X.size(0), self.hidden_size)) #internal state\n",
    "        \n",
    "        # Propagate input through LSTM\n",
    "        output, (hn, cn) = self.lstm(X, (h_0, c_0)) #lstm with input, hidden, and internal state\n",
    "        hn = hn.view(-1, self.hidden_size)\n",
    "\n",
    "        # Propagate input through fully connected linear neuron\n",
    "        out = self.fc(hn)\n",
    "        \n",
    "        return out"
   ]
  },
  {
   "cell_type": "markdown",
   "metadata": {},
   "source": [
    "We process the data for training and testing"
   ]
  },
  {
   "cell_type": "code",
   "execution_count": 6,
   "metadata": {},
   "outputs": [],
   "source": [
    "def process_data(data, seq_length, train_proportion, scaler):\n",
    "    data_normalized = scaler.fit_transform(np.array(data))\n",
    "    X,y = sliding_windows(data_normalized,seq_length)\n",
    "    train_size = int(len(y) * train_proportion)\n",
    "\n",
    "    X_data = Variable(torch.Tensor(X))\n",
    "    y_data = Variable(torch.Tensor(y))\n",
    "\n",
    "    X_train = Variable(torch.Tensor(X[0:train_size]))\n",
    "    y_train = Variable(torch.Tensor(y[0:train_size]))\n",
    "\n",
    "    X_test = Variable(torch.Tensor(X[train_size:len(X)]))\n",
    "    y_test = Variable(torch.Tensor(y[train_size:len(X)]))\n",
    "    \n",
    "    return data_normalized, X_data, y_data, X_train, y_train, X_test, y_test"
   ]
  },
  {
   "cell_type": "code",
   "execution_count": 7,
   "metadata": {},
   "outputs": [],
   "source": [
    "seq_length = 15\n",
    "train_proportion = 2/3\n",
    "scaler = MinMaxScaler(feature_range=(-1, 1))\n",
    "data_normalized, X_data, y_data, X_train, y_train, X_test, y_test = process_data(tesla_data, seq_length, train_proportion, scaler)"
   ]
  },
  {
   "cell_type": "markdown",
   "metadata": {},
   "source": [
    "We create a recurrent neural network with our LSTM_nn class"
   ]
  },
  {
   "cell_type": "code",
   "execution_count": 8,
   "metadata": {},
   "outputs": [],
   "source": [
    "my_model = LSTM_nn(input_size = 1, num_layers = 1, hidden_size = 128, seq_length = seq_length)"
   ]
  },
  {
   "cell_type": "markdown",
   "metadata": {},
   "source": [
    "We train our model "
   ]
  },
  {
   "cell_type": "code",
   "execution_count": 9,
   "metadata": {},
   "outputs": [
    {
     "name": "stderr",
     "output_type": "stream",
     "text": [
      "Epoch: 500, Train loss: 0.00051, Test loss: 0.00893: 100%|██████████| 501/501 [03:04<00:00,  2.71it/s]\n"
     ]
    }
   ],
   "source": [
    "num_epochs = 500\n",
    "learning_rate = 0.001\n",
    "criterion = nn.MSELoss()    \n",
    "optimizer = torch.optim.Adam(my_model.parameters(), lr=learning_rate) \n",
    "t = trange(num_epochs+1)\n",
    "for epoch in t:\n",
    "    #Pass through the neural network\n",
    "    train_outputs = my_model.forward(X_train) \n",
    "    test_outputs = my_model.forward(X_test) \n",
    "\n",
    "    #Reset gradients to zero  \n",
    "    optimizer.zero_grad() \n",
    "    \n",
    "    train_loss = criterion(train_outputs, y_train)\n",
    "    test_loss = criterion(test_outputs,y_test)\n",
    "\n",
    "    #Backprogagation step\n",
    "    train_loss.backward()\n",
    "    \n",
    "    #Update weights and bias of the network\n",
    "    optimizer.step()\n",
    "    \n",
    "    #Print train and test loss\n",
    "    t.set_description(\"Epoch: %d, Train loss: %1.5f, Test loss: %1.5f\" % (epoch, train_loss.item(),test_loss.item()))\n"
   ]
  },
  {
   "cell_type": "markdown",
   "metadata": {},
   "source": [
    "We save the trained model parameters for future use"
   ]
  },
  {
   "cell_type": "code",
   "execution_count": 10,
   "metadata": {},
   "outputs": [],
   "source": [
    "filepath = 'lstm1'\n",
    "torch.save(my_model.state_dict(), filepath)"
   ]
  },
  {
   "cell_type": "markdown",
   "metadata": {},
   "source": [
    "Use this to load a saved model"
   ]
  },
  {
   "cell_type": "code",
   "execution_count": 11,
   "metadata": {},
   "outputs": [
    {
     "data": {
      "text/plain": [
       "<All keys matched successfully>"
      ]
     },
     "execution_count": 11,
     "metadata": {},
     "output_type": "execute_result"
    }
   ],
   "source": [
    "filepath = 'lstm1'\n",
    "my_model.load_state_dict(torch.load(filepath))"
   ]
  },
  {
   "cell_type": "markdown",
   "metadata": {},
   "source": [
    "We make prediction on all data and compare it with actual data."
   ]
  },
  {
   "cell_type": "code",
   "execution_count": 76,
   "metadata": {},
   "outputs": [
    {
     "data": {
      "text/plain": [
       "<Figure size 432x288 with 0 Axes>"
      ]
     },
     "metadata": {},
     "output_type": "display_data"
    },
    {
     "data": {
      "image/png": "[encoded data removed]",
      "text/plain": [
       "<Figure size 864x432 with 1 Axes>"
      ]
     },
     "metadata": {
      "needs_background": "light"
     },
     "output_type": "display_data"
    }
   ],
   "source": [
    "lstm_prediction = my_model.forward(X_data).detach().numpy()\n",
    "lstm_prediction = scaler.inverse_transform(lstm_prediction)\n",
    "plt.clf()\n",
    "plt.figure(figsize=(12,6))\n",
    "plt.plot(lstm_prediction, label='LSTM Prediction', c = 'r')\n",
    "plt.plot(tesla_data, label='Actual value', c = 'b')\n",
    "plt.legend()\n",
    "plt.show() "
   ]
  },
  {
   "cell_type": "markdown",
   "metadata": {},
   "source": [
    "We compare our predictions and the naive prediction with a MAE loss : $\\hat{y}(t+1 | t) = y(t)$."
   ]
  },
  {
   "cell_type": "code",
   "execution_count": 79,
   "metadata": {},
   "outputs": [
    {
     "name": "stdout",
     "output_type": "stream",
     "text": [
      "Error using the naive prediction : 43.30625\n",
      "Error using the lstm prediction : 484.06744\n"
     ]
    }
   ],
   "source": [
    "from sklearn.metrics import mean_squared_error\n",
    "naive_prediction = X_data.numpy()[:,14]\n",
    "naive_prediction = scaler.inverse_transform(naive_prediction)\n",
    "real_values = scaler.inverse_transform(y_data.numpy())\n",
    "naive_error = mean_squared_error(real_values,naive_prediction)\n",
    "lstm_error = mean_squared_error(real_values,lstm_prediction)\n",
    "print('Error using the naive prediction : ' + str(naive_error))\n",
    "print('Error using the lstm prediction : ' + str(lstm_error))"
   ]
  },
  {
   "cell_type": "code",
   "execution_count": 80,
   "metadata": {},
   "outputs": [
    {
     "name": "stdout",
     "output_type": "stream",
     "text": [
      "[[ 20.22    ]\n",
      " [ 20.999996]\n",
      " [ 21.290012]\n",
      " ...\n",
      " [580.99    ]\n",
      " [640.81    ]\n",
      " [650.57    ]]\n"
     ]
    }
   ],
   "source": [
    "print(real_values)"
   ]
  },
  {
   "cell_type": "code",
   "execution_count": 81,
   "metadata": {},
   "outputs": [
    {
     "name": "stdout",
     "output_type": "stream",
     "text": [
      "[[ 20.300009]\n",
      " [ 20.22    ]\n",
      " [ 20.999996]\n",
      " ...\n",
      " [566.9     ]\n",
      " [580.99    ]\n",
      " [640.81    ]]\n"
     ]
    }
   ],
   "source": [
    "print(naive_prediction)"
   ]
  },
  {
   "cell_type": "code",
   "execution_count": 82,
   "metadata": {},
   "outputs": [
    {
     "name": "stdout",
     "output_type": "stream",
     "text": [
      "[[ 18.19738 ]\n",
      " [ 18.29996 ]\n",
      " [ 18.467081]\n",
      " ...\n",
      " [421.2419  ]\n",
      " [423.8574  ]\n",
      " [429.0757  ]]\n"
     ]
    }
   ],
   "source": [
    "print(lstm_prediction)"
   ]
  },
  {
   "cell_type": "code",
   "execution_count": null,
   "metadata": {},
   "outputs": [],
   "source": []
  }
 ],
 "metadata": {
  "kernelspec": {
   "display_name": "Python 3",
   "language": "python",
   "name": "python3"
  },
  "language_info": {
   "codemirror_mode": {
    "name": "ipython",
    "version": 3
   },
   "file_extension": ".py",
   "mimetype": "text/x-python",
   "name": "python",
   "nbconvert_exporter": "python",
   "pygments_lexer": "ipython3",
   "version": "3.8.5"
  }
 },
 "nbformat": 4,
 "nbformat_minor": 4
}
